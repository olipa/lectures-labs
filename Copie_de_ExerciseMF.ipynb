{
  "nbformat": 4,
  "nbformat_minor": 0,
  "metadata": {
    "colab": {
      "name": "Copie de ExerciseMF.ipynb",
      "version": "0.3.2",
      "provenance": [],
      "include_colab_link": true
    },
    "language_info": {
      "codemirror_mode": {
        "name": "ipython",
        "version": 3
      },
      "file_extension": ".py",
      "mimetype": "text/x-python",
      "name": "python",
      "nbconvert_exporter": "python",
      "pygments_lexer": "ipython3",
      "version": "3.7.1"
    },
    "kernelspec": {
      "display_name": "Python 3",
      "language": "python",
      "name": "python3"
    }
  },
  "cells": [
    {
      "cell_type": "markdown",
      "metadata": {
        "id": "view-in-github",
        "colab_type": "text"
      },
      "source": [
        "<a href=\"https://colab.research.google.com/github/olipa/lectures-labs/blob/master/Copie_de_ExerciseMF.ipynb\" target=\"_parent\"><img src=\"https://colab.research.google.com/assets/colab-badge.svg\" alt=\"Open In Colab\"/></a>"
      ]
    },
    {
      "cell_type": "markdown",
      "metadata": {
        "id": "inm9eChzXI06",
        "colab_type": "text"
      },
      "source": [
        "# Matrix factorization of an explicit feedback (ratings) matrix\n",
        "\n",
        "The goal of this exercise is to generate recommendations for movies using Matrix Factorization (MF) and Neural Network MF. \n",
        "\n",
        "See also:\n",
        "* https://arxiv.org/abs/1708.05031\n",
        "* http://hameddaily.blogspot.fr/2016/12/simple-matrix-factorization-with.html\n",
        "* https://nipunbatra.github.io/blog/2017/recommend-keras.html\n"
      ]
    },
    {
      "cell_type": "code",
      "metadata": {
        "id": "vY8vt9psXI1K",
        "colab_type": "code",
        "outputId": "343262b1-64b0-452c-e282-fe048bfa63de",
        "colab": {
          "base_uri": "https://localhost:8080/",
          "height": 68
        }
      },
      "source": [
        "!pip install -q tensorflow==2.0.0-beta0\n",
        "!pip install -q matplotlib\n",
        "!pip install -q pandas\n",
        "!pip install -q numpy"
      ],
      "execution_count": 0,
      "outputs": [
        {
          "output_type": "stream",
          "text": [
            "\u001b[K     |████████████████████████████████| 87.9MB 94kB/s \n",
            "\u001b[K     |████████████████████████████████| 501kB 41.5MB/s \n",
            "\u001b[K     |████████████████████████████████| 3.1MB 41.1MB/s \n",
            "\u001b[?25h"
          ],
          "name": "stdout"
        }
      ]
    },
    {
      "cell_type": "code",
      "metadata": {
        "scrolled": true,
        "id": "X2ueNBoXXI1O",
        "colab_type": "code",
        "outputId": "6f46ab08-69a7-46fb-b274-38c184e81298",
        "colab": {
          "base_uri": "https://localhost:8080/",
          "height": 51
        }
      },
      "source": [
        "import tensorflow as tf\n",
        "import numpy \n",
        "import pandas as pd\n",
        "import matplotlib\n",
        "%matplotlib inline\n",
        "\n",
        "print(\"TensorFlow version: {}\".format(tf.__version__))\n",
        "print(\"Eager execution: {}\".format(tf.executing_eagerly()))\n"
      ],
      "execution_count": 0,
      "outputs": [
        {
          "output_type": "stream",
          "text": [
            "TensorFlow version: 2.0.0-beta0\n",
            "Eager execution: True\n"
          ],
          "name": "stdout"
        }
      ]
    },
    {
      "cell_type": "markdown",
      "metadata": {
        "id": "eT6CnAmnXI1R",
        "colab_type": "text"
      },
      "source": [
        "### Load the data\n",
        "The small MovieLens dataset: https://grouplens.org/datasets/movielens/100k/"
      ]
    },
    {
      "cell_type": "code",
      "metadata": {
        "id": "4pWVGzXTXI1S",
        "colab_type": "code",
        "outputId": "c14113f2-d005-45a9-b4ce-42e52f81e71e",
        "colab": {
          "base_uri": "https://localhost:8080/",
          "height": 297
        }
      },
      "source": [
        "from io import BytesIO\n",
        "from zipfile import ZipFile\n",
        "from urllib.request import urlopen\n",
        "\n",
        "resp = urlopen(\"http://files.grouplens.org/datasets/movielens/ml-100k.zip\")\n",
        "zipfile = ZipFile(BytesIO(resp.read()))\n",
        "file = 'ml-100k/u.data'\n",
        "df = pd.read_csv(zipfile.open(file), low_memory=False, skiprows=[0], sep='\\t', names=['user', 'item', 'rate', 'time'])\n",
        "df.describe()"
      ],
      "execution_count": 0,
      "outputs": [
        {
          "output_type": "execute_result",
          "data": {
            "text/html": [
              "<div>\n",
              "<style scoped>\n",
              "    .dataframe tbody tr th:only-of-type {\n",
              "        vertical-align: middle;\n",
              "    }\n",
              "\n",
              "    .dataframe tbody tr th {\n",
              "        vertical-align: top;\n",
              "    }\n",
              "\n",
              "    .dataframe thead th {\n",
              "        text-align: right;\n",
              "    }\n",
              "</style>\n",
              "<table border=\"1\" class=\"dataframe\">\n",
              "  <thead>\n",
              "    <tr style=\"text-align: right;\">\n",
              "      <th></th>\n",
              "      <th>user</th>\n",
              "      <th>item</th>\n",
              "      <th>rate</th>\n",
              "      <th>time</th>\n",
              "    </tr>\n",
              "  </thead>\n",
              "  <tbody>\n",
              "    <tr>\n",
              "      <th>count</th>\n",
              "      <td>99999.000000</td>\n",
              "      <td>99999.000000</td>\n",
              "      <td>99999.000000</td>\n",
              "      <td>9.999900e+04</td>\n",
              "    </tr>\n",
              "    <tr>\n",
              "      <th>mean</th>\n",
              "      <td>462.487415</td>\n",
              "      <td>425.531965</td>\n",
              "      <td>3.529865</td>\n",
              "      <td>8.835289e+08</td>\n",
              "    </tr>\n",
              "    <tr>\n",
              "      <th>std</th>\n",
              "      <td>266.614421</td>\n",
              "      <td>330.799501</td>\n",
              "      <td>1.125678</td>\n",
              "      <td>5.343878e+06</td>\n",
              "    </tr>\n",
              "    <tr>\n",
              "      <th>min</th>\n",
              "      <td>1.000000</td>\n",
              "      <td>1.000000</td>\n",
              "      <td>1.000000</td>\n",
              "      <td>8.747247e+08</td>\n",
              "    </tr>\n",
              "    <tr>\n",
              "      <th>25%</th>\n",
              "      <td>254.000000</td>\n",
              "      <td>175.000000</td>\n",
              "      <td>3.000000</td>\n",
              "      <td>8.794487e+08</td>\n",
              "    </tr>\n",
              "    <tr>\n",
              "      <th>50%</th>\n",
              "      <td>447.000000</td>\n",
              "      <td>322.000000</td>\n",
              "      <td>4.000000</td>\n",
              "      <td>8.828269e+08</td>\n",
              "    </tr>\n",
              "    <tr>\n",
              "      <th>75%</th>\n",
              "      <td>682.000000</td>\n",
              "      <td>631.000000</td>\n",
              "      <td>4.000000</td>\n",
              "      <td>8.882600e+08</td>\n",
              "    </tr>\n",
              "    <tr>\n",
              "      <th>max</th>\n",
              "      <td>943.000000</td>\n",
              "      <td>1682.000000</td>\n",
              "      <td>5.000000</td>\n",
              "      <td>8.932866e+08</td>\n",
              "    </tr>\n",
              "  </tbody>\n",
              "</table>\n",
              "</div>"
            ],
            "text/plain": [
              "               user          item          rate          time\n",
              "count  99999.000000  99999.000000  99999.000000  9.999900e+04\n",
              "mean     462.487415    425.531965      3.529865  8.835289e+08\n",
              "std      266.614421    330.799501      1.125678  5.343878e+06\n",
              "min        1.000000      1.000000      1.000000  8.747247e+08\n",
              "25%      254.000000    175.000000      3.000000  8.794487e+08\n",
              "50%      447.000000    322.000000      4.000000  8.828269e+08\n",
              "75%      682.000000    631.000000      4.000000  8.882600e+08\n",
              "max      943.000000   1682.000000      5.000000  8.932866e+08"
            ]
          },
          "metadata": {
            "tags": []
          },
          "execution_count": 105
        }
      ]
    },
    {
      "cell_type": "markdown",
      "metadata": {
        "id": "XlTRVA5xXI1U",
        "colab_type": "text"
      },
      "source": [
        "We split the dataset into training and test subset. We remove the mean rating.  \n",
        "\n"
      ]
    },
    {
      "cell_type": "code",
      "metadata": {
        "id": "FTNQgLafXI1V",
        "colab_type": "code",
        "outputId": "cdffc231-fd3d-4c89-f1cd-af625ea0af8a",
        "colab": {
          "base_uri": "https://localhost:8080/",
          "height": 51
        }
      },
      "source": [
        "numpy.random.seed(42)\n",
        "# split data into train and test set\n",
        "msk = numpy.random.rand(len(df)) < 0.7\n",
        "df_train = df[msk]\n",
        "df_test = df[~msk]\n",
        "\n",
        "user_index = [x-1 for x in df_train.user.values]\n",
        "item_index = [x-1 for x in df_train.item.values]\n",
        "user_index_test = [x-1 for x in df_test.user.values]\n",
        "item_index_test = [x-1 for x in df_test.item.values]\n",
        "\n",
        "rates = df_train.rate.values \n",
        "rates_test = df_test.rate.values\n",
        "\n",
        "num_ratings = len(rates)\n",
        "num_ratings_test = len(rates_test)\n",
        "mean_rating = numpy.mean(rates)\n",
        "mean_rating_test = numpy.mean(rates_test)\n",
        "\n",
        "rates = rates - mean_rating\n",
        "rates_test = rates_test - mean_rating\n",
        "\n",
        "print (\"Mean (train) rating = \" + str(mean_rating))\n",
        "print (\"Number of ratings (train/val/total) = \" + str(num_ratings) + \"/\" + str(num_ratings_test) + \"/\" + str(num_ratings + num_ratings_test))"
      ],
      "execution_count": 0,
      "outputs": [
        {
          "output_type": "stream",
          "text": [
            "Mean (train) rating = 3.528654970760234\n",
            "Number of ratings (train/val/total) = 70110/29889/99999\n"
          ],
          "name": "stdout"
        }
      ]
    },
    {
      "cell_type": "markdown",
      "metadata": {
        "id": "us5pgkKNgopM",
        "colab_type": "text"
      },
      "source": [
        ""
      ]
    },
    {
      "cell_type": "markdown",
      "metadata": {
        "id": "rK70mBxEXI1Y",
        "colab_type": "text"
      },
      "source": [
        "# Matrix Factorization\n",
        "\n",
        "In matrix factorization user rating r is formulated as an inner product of two latent vectors $u$ and $v$  which are two latent vectors in same space to represent the user interest and movie feature respectively.\n",
        "\n",
        "$r=u^Tv$ \n"
      ]
    },
    {
      "cell_type": "code",
      "metadata": {
        "id": "FEF6LGgYceYy",
        "colab_type": "code",
        "outputId": "39aaa6c6-33fd-45a0-bfd8-10d8024bb533",
        "colab": {
          "base_uri": "https://localhost:8080/",
          "height": 34
        }
      },
      "source": [
        "len(numpy.unique(df.item.values))"
      ],
      "execution_count": 0,
      "outputs": [
        {
          "output_type": "execute_result",
          "data": {
            "text/plain": [
              "1682"
            ]
          },
          "metadata": {
            "tags": []
          },
          "execution_count": 75
        }
      ]
    },
    {
      "cell_type": "code",
      "metadata": {
        "id": "k6eabp9fXI1Z",
        "colab_type": "code",
        "outputId": "a5bb9e48-d3ee-4bf7-de9c-eb10f8a15811",
        "colab": {
          "base_uri": "https://localhost:8080/",
          "height": 233
        }
      },
      "source": [
        "from IPython.display import Image\n",
        "from IPython.core.display import HTML\n",
        "Image(url= \"https://4.bp.blogspot.com/-95QD5t9Lha4/Wd7uWnBZBeI/AAAAAAAADg4/xB4VnnxM0UgUp15lNmB3aHCXYGejpm4OACLcBGAs/s1600/matrix_factorization.png\")"
      ],
      "execution_count": 0,
      "outputs": [
        {
          "output_type": "execute_result",
          "data": {
            "text/html": [
              "<img src=\"https://4.bp.blogspot.com/-95QD5t9Lha4/Wd7uWnBZBeI/AAAAAAAADg4/xB4VnnxM0UgUp15lNmB3aHCXYGejpm4OACLcBGAs/s1600/matrix_factorization.png\"/>"
            ],
            "text/plain": [
              "<IPython.core.display.Image object>"
            ]
          },
          "metadata": {
            "tags": []
          },
          "execution_count": 76
        }
      ]
    },
    {
      "cell_type": "markdown",
      "metadata": {
        "id": "JOH9bgMpXI1c",
        "colab_type": "text"
      },
      "source": [
        "### Latent space\n",
        "\n",
        "We define these two latent variables in TensorFlow as follows: $U$ shows latent representation of user interest and $P$ that represents the latent values for items.\n",
        "\n",
        "The dimension of the latent space 'feature_len' is a parameter of the method.\n"
      ]
    },
    {
      "cell_type": "code",
      "metadata": {
        "id": "ZiDH6avUXI1d",
        "colab_type": "code",
        "outputId": "37ccf635-d373-4e13-e774-11777cc02ef1",
        "colab": {
          "base_uri": "https://localhost:8080/",
          "height": 68
        }
      },
      "source": [
        "# variables\n",
        "feature_len = 100\n",
        "\n",
        "num_users = len(numpy.unique(df.user.values)) \n",
        "num_items = len(numpy.unique(df.item.values)) \n",
        "\n",
        "print(\"Number of users is {}\".format(num_users))\n",
        "print(\"Number of movies is {}\".format(num_items))\n",
        "print(\"The latent space has dimension {}\".format(feature_len))\n"
      ],
      "execution_count": 0,
      "outputs": [
        {
          "output_type": "stream",
          "text": [
            "Number of users is 943\n",
            "Number of movies is 1682\n",
            "The latent space has dimension 100\n"
          ],
          "name": "stdout"
        }
      ]
    },
    {
      "cell_type": "markdown",
      "metadata": {
        "id": "zQKdWkmbXI1f",
        "colab_type": "text"
      },
      "source": [
        "### Model\n",
        "We define the user and item matrices and use their product to compute ratings R. \n"
      ]
    },
    {
      "cell_type": "code",
      "metadata": {
        "id": "PQzsWkJyXI1g",
        "colab_type": "code",
        "outputId": "186181f7-2001-49c4-b789-d46cbb0e7880",
        "colab": {
          "base_uri": "https://localhost:8080/",
          "height": 408
        }
      },
      "source": [
        "# product embedding\n",
        "item_input = tf.keras.layers.Input(shape=[1],name='Item')\n",
        "item_embedding = tf.keras.layers.Embedding(num_items, feature_len, name='Item-Embedding')(item_input)\n",
        "item_vec = tf.keras.layers.Flatten(name='FlattenItems')(item_embedding)\n",
        "\n",
        "# user embedding\n",
        "user_input = tf.keras.layers.Input(shape=[1],name='User')\n",
        "user_embedding = tf.keras.layers.Embedding(num_users, feature_len, name='User-Embedding')(user_input)\n",
        "user_vec = tf.keras.layers.Flatten(name='FlattenUsers')(user_embedding)\n",
        "\n",
        "# rating\n",
        "#user_vec_transp = tf.transpose(user_vec)\n",
        "result = tf.keras.layers.dot([item_vec, user_vec], axes=1, name='DotProduct')\n",
        "\n",
        "# initialize Keras model \n",
        "model = tf.keras.Model([user_input, item_input], result)\n",
        "model.summary()\n"
      ],
      "execution_count": 0,
      "outputs": [
        {
          "output_type": "stream",
          "text": [
            "Model: \"model_7\"\n",
            "__________________________________________________________________________________________________\n",
            "Layer (type)                    Output Shape         Param #     Connected to                     \n",
            "==================================================================================================\n",
            "Item (InputLayer)               [(None, 1)]          0                                            \n",
            "__________________________________________________________________________________________________\n",
            "User (InputLayer)               [(None, 1)]          0                                            \n",
            "__________________________________________________________________________________________________\n",
            "Item-Embedding (Embedding)      (None, 1, 100)       168200      Item[0][0]                       \n",
            "__________________________________________________________________________________________________\n",
            "User-Embedding (Embedding)      (None, 1, 100)       94300       User[0][0]                       \n",
            "__________________________________________________________________________________________________\n",
            "FlattenItems (Flatten)          (None, 100)          0           Item-Embedding[0][0]             \n",
            "__________________________________________________________________________________________________\n",
            "FlattenUsers (Flatten)          (None, 100)          0           User-Embedding[0][0]             \n",
            "__________________________________________________________________________________________________\n",
            "DotProduct (Dot)                (None, 1)            0           FlattenItems[0][0]               \n",
            "                                                                 FlattenUsers[0][0]               \n",
            "==================================================================================================\n",
            "Total params: 262,500\n",
            "Trainable params: 262,500\n",
            "Non-trainable params: 0\n",
            "__________________________________________________________________________________________________\n"
          ],
          "name": "stdout"
        }
      ]
    },
    {
      "cell_type": "markdown",
      "metadata": {
        "id": "NRV5_OpDXI1j",
        "colab_type": "text"
      },
      "source": [
        "### Loss and optimizer\n",
        "\n",
        "To learn model parameters, we optimize the model with respect to mean squared error loss. As the optimization algorithm we use stochastic gradient descent (SGD) or Adam optimizer.\n"
      ]
    },
    {
      "cell_type": "code",
      "metadata": {
        "id": "wVxPGLmnXI1l",
        "colab_type": "code",
        "colab": {}
      },
      "source": [
        "loss = tf.keras.losses.MeanSquaredError()\n",
        "\n",
        "# learning rate\n",
        "lr = 0.001\n",
        "learning_rate = tf.optimizers.schedules.ExponentialDecay(lr, decay_steps=100000,\n",
        "    decay_rate=0.96, staircase=True)\n",
        "\n",
        "optimizer = tf.optimizers.Adam(learning_rate=learning_rate)\n",
        "#optimizer = tf.optimizers.SGD(learning_rate=lr)\n"
      ],
      "execution_count": 0,
      "outputs": []
    },
    {
      "cell_type": "markdown",
      "metadata": {
        "id": "RrIQSTRfXI1p",
        "colab_type": "text"
      },
      "source": [
        "### Metrics\n",
        "We define the accuracy metric."
      ]
    },
    {
      "cell_type": "code",
      "metadata": {
        "id": "-mQtg9l5XI1q",
        "colab_type": "code",
        "colab": {}
      },
      "source": [
        "# Define accuracy\n",
        "threshold = 1.0\n",
        "\n",
        "def accuracy(desired_rates, predicted_rates):\n",
        "    diff_op = tf.subtract(predicted_rates, desired_rates, name='trainig_diff')\n",
        "    # Just measure the absolute difference against the threshold\n",
        "    good = tf.less(tf.abs(diff_op), threshold)\n",
        "\n",
        "    return tf.reduce_mean(tf.cast(good, tf.float32))\n"
      ],
      "execution_count": 0,
      "outputs": []
    },
    {
      "cell_type": "markdown",
      "metadata": {
        "id": "Y7Qc-SIZXI1t",
        "colab_type": "text"
      },
      "source": [
        "### Compile the Keras model"
      ]
    },
    {
      "cell_type": "code",
      "metadata": {
        "id": "pDIGWh1-XI1u",
        "colab_type": "code",
        "colab": {}
      },
      "source": [
        "# compile the model with the optimizerm, loss and the tracking metrics\n",
        "model.compile(optimizer=optimizer, loss=loss, metrics=[accuracy])\n"
      ],
      "execution_count": 0,
      "outputs": []
    },
    {
      "cell_type": "code",
      "metadata": {
        "id": "1p5JyJvHjjgM",
        "colab_type": "code",
        "outputId": "d4a2b9be-2fa1-4dbe-eb05-5a2927954300",
        "colab": {
          "base_uri": "https://localhost:8080/",
          "height": 422
        }
      },
      "source": [
        "tf.keras.utils.plot_model(model,to_file='model.png', show_shapes=True, show_layer_names=True, rankdir='TB', expand_nested=False, dpi=96)"
      ],
      "execution_count": 0,
      "outputs": [
        {
          "output_type": "execute_result",
          "data": {
            "image/png": "[encoded data removed]",
            "text/plain": [
              "<IPython.core.display.Image object>"
            ]
          },
          "metadata": {
            "tags": []
          },
          "execution_count": 112
        }
      ]
    },
    {
      "cell_type": "markdown",
      "metadata": {
        "id": "1mGrOCgZXI1y",
        "colab_type": "text"
      },
      "source": [
        "### Training\n",
        "\n",
        "During training, we evaluate the accuracy on a validation set (validation_split=0.1).\n",
        "\n",
        "Question: Choose the number of epochs such that the model does not overfit the training set.\n"
      ]
    },
    {
      "cell_type": "code",
      "metadata": {
        "id": "H0Iyd49SXI1z",
        "colab_type": "code",
        "outputId": "dcfe82de-d4a4-44f3-96df-2c4017cbd738",
        "colab": {
          "base_uri": "https://localhost:8080/",
          "height": 374
        }
      },
      "source": [
        "numberEpochs = 10\n",
        "history = model.fit([user_index, item_index], rates, epochs=numberEpochs, verbose=1, validation_split=0.1)\n"
      ],
      "execution_count": 0,
      "outputs": [
        {
          "output_type": "stream",
          "text": [
            "Train on 63099 samples, validate on 7011 samples\n",
            "Epoch 1/10\n",
            "63099/63099 [==============================] - 3s 48us/sample - loss: 0.5848 - accuracy: 0.8234 - val_loss: 0.9496 - val_accuracy: 0.7184\n",
            "Epoch 2/10\n",
            "63099/63099 [==============================] - 3s 42us/sample - loss: 0.5699 - accuracy: 0.8283 - val_loss: 0.9606 - val_accuracy: 0.7150\n",
            "Epoch 3/10\n",
            "63099/63099 [==============================] - 3s 43us/sample - loss: 0.5561 - accuracy: 0.8326 - val_loss: 0.9725 - val_accuracy: 0.7118\n",
            "Epoch 4/10\n",
            "63099/63099 [==============================] - 3s 43us/sample - loss: 0.5444 - accuracy: 0.8375 - val_loss: 0.9841 - val_accuracy: 0.7083\n",
            "Epoch 5/10\n",
            "63099/63099 [==============================] - 3s 43us/sample - loss: 0.5342 - accuracy: 0.8406 - val_loss: 0.9951 - val_accuracy: 0.7084\n",
            "Epoch 6/10\n",
            "63099/63099 [==============================] - 3s 42us/sample - loss: 0.5256 - accuracy: 0.8441 - val_loss: 1.0050 - val_accuracy: 0.7053\n",
            "Epoch 7/10\n",
            "63099/63099 [==============================] - 3s 42us/sample - loss: 0.5177 - accuracy: 0.8464 - val_loss: 1.0165 - val_accuracy: 0.7022\n",
            "Epoch 8/10\n",
            "63099/63099 [==============================] - 3s 42us/sample - loss: 0.5110 - accuracy: 0.8490 - val_loss: 1.0261 - val_accuracy: 0.7009\n",
            "Epoch 9/10\n",
            "63099/63099 [==============================] - 3s 42us/sample - loss: 0.5050 - accuracy: 0.8514 - val_loss: 1.0371 - val_accuracy: 0.6975\n",
            "Epoch 10/10\n",
            "63099/63099 [==============================] - 3s 42us/sample - loss: 0.4995 - accuracy: 0.8535 - val_loss: 1.0470 - val_accuracy: 0.6969\n"
          ],
          "name": "stdout"
        }
      ]
    },
    {
      "cell_type": "markdown",
      "metadata": {
        "id": "ZABT6hHFXI12",
        "colab_type": "text"
      },
      "source": [
        "### Visualize the training history\n",
        "We can visualize the training and validation loss."
      ]
    },
    {
      "cell_type": "code",
      "metadata": {
        "id": "FKKCqzcWXI13",
        "colab_type": "code",
        "outputId": "ce6457ec-2579-4f05-f387-7926df4831f2",
        "colab": {
          "base_uri": "https://localhost:8080/",
          "height": 283
        }
      },
      "source": [
        "import matplotlib.pyplot as plt\n",
        "\n",
        "def plot_history(history):\n",
        "    pd.Series(history.history['loss']).plot(logy=True, label='Training loss')\n",
        "    pd.Series(history.history['val_loss']).plot(logy=True, label='Validation loss')\n",
        "    \n",
        "    pd.Series(history.history['accuracy']).plot(logy=True, label='Training accuracy')\n",
        "    pd.Series(history.history['val_accuracy']).plot(logy=True, label='Validation accuracy')\n",
        "    plt.legend()\n",
        "\n",
        "    plt.xlabel(\"Epoch\")\n",
        "\n",
        "    plt.show()\n",
        "    \n",
        "plot_history(history)"
      ],
      "execution_count": 0,
      "outputs": [
        {
          "output_type": "display_data",
          "data": {
            "image/png": "[encoded data removed]",
            "text/plain": [
              "<Figure size 432x288 with 1 Axes>"
            ]
          },
          "metadata": {
            "tags": []
          }
        }
      ]
    },
    {
      "cell_type": "markdown",
      "metadata": {
        "id": "Z8cVyITLXI17",
        "colab_type": "text"
      },
      "source": [
        "### Evaluation on the test dataset\n",
        "Let's look at the predictions for some users from the testset. We also compute MAE on the testset.\n",
        "\n",
        "\n"
      ]
    },
    {
      "cell_type": "code",
      "metadata": {
        "id": "e5fQZuyJXI18",
        "colab_type": "code",
        "outputId": "bb45da8a-fd74-4948-b4f3-712e6420f101",
        "colab": {
          "base_uri": "https://localhost:8080/",
          "height": 187
        }
      },
      "source": [
        "# example\n",
        "nr_sampled_users = 10\n",
        "\n",
        "for index in numpy.random.choice(range(len(user_index_test)), size=nr_sampled_users):\n",
        "    u = [user_index_test[index]]\n",
        "    p = [item_index_test[index]]\n",
        "    r = rates_test[index] + mean_rating\n",
        "\n",
        "    rhat = model.predict([u, p]) + mean_rating_test\n",
        "\n",
        "    print (\"rating for user \" + str(u) + \" for item \" + str(p) + \" is \" + str(r) + \" and our prediction is: \" + str(rhat[0]))\n"
      ],
      "execution_count": 0,
      "outputs": [
        {
          "output_type": "stream",
          "text": [
            "rating for user [359] for item [325] is 3.0 and our prediction is: [3.015556]\n",
            "rating for user [794] for item [180] is 4.0 and our prediction is: [3.0877047]\n",
            "rating for user [869] for item [1040] is 2.0 and our prediction is: [3.2914193]\n",
            "rating for user [571] for item [812] is 4.0 and our prediction is: [4.6077695]\n",
            "rating for user [312] for item [447] is 3.0 and our prediction is: [3.2677693]\n",
            "rating for user [888] for item [686] is 2.0 and our prediction is: [2.1787255]\n",
            "rating for user [456] for item [175] is 5.0 and our prediction is: [4.671523]\n",
            "rating for user [296] for item [180] is 4.0 and our prediction is: [3.6828446]\n",
            "rating for user [404] for item [574] is 5.0 and our prediction is: [2.6576185]\n",
            "rating for user [317] for item [516] is 3.0 and our prediction is: [3.931131]\n"
          ],
          "name": "stdout"
        }
      ]
    },
    {
      "cell_type": "code",
      "metadata": {
        "id": "-Q7mcbWgXI1-",
        "colab_type": "code",
        "outputId": "4354a39b-8638-4a40-ad22-ccc7a004e105",
        "colab": {
          "base_uri": "https://localhost:8080/",
          "height": 34
        }
      },
      "source": [
        "from sklearn.metrics import mean_absolute_error\n",
        "\n",
        "def compute_error(model, user_index_test, item_index_test):\n",
        "    predicted_rates_test = model.predict([user_index_test, item_index_test])\n",
        "    \n",
        "    return mean_absolute_error(rates_test, predicted_rates_test)\n",
        "\n",
        "err_test = compute_error(model, user_index_test, item_index_test)\n",
        "print(\"Mean absolute error on the test set: {}\".format(err_test))\n"
      ],
      "execution_count": 0,
      "outputs": [
        {
          "output_type": "stream",
          "text": [
            "Mean absolute error on the test set: 0.8004533224410546\n"
          ],
          "name": "stdout"
        }
      ]
    },
    {
      "cell_type": "markdown",
      "metadata": {
        "id": "j9SjXWbGXI2B",
        "colab_type": "text"
      },
      "source": [
        "### Generate recommendations from the trained model for a list of users\n",
        "\n",
        "Noe that we have trained a model to predict ratings, we generate recommendations for every user by ranking the movies by the predicted rating.\n"
      ]
    },
    {
      "cell_type": "code",
      "metadata": {
        "id": "qmJ3CK8rXI2C",
        "colab_type": "code",
        "colab": {}
      },
      "source": [
        "def create_recommendations(model, df, listOfUsers, nrRecommendations=20):\n",
        "    \n",
        "    item_index = numpy.array(numpy.unique(df.item.values))-1\n",
        "    recommendations_set = {}\n",
        "    \n",
        "    for user in listOfUsers:\n",
        "        user_index = numpy.ones(len(item_index)) * user\n",
        "        predicted_rates = model.predict([user_index, item_index]) #+ mean_rating\n",
        "        \n",
        "        ranked_items_idx = numpy.argsort(predicted_rates, axis=0)[::-1].squeeze()\n",
        "        ranked_items = item_index[ranked_items_idx] \n",
        "        recommendations_set[user] = ranked_items[:nrRecommendations]\n",
        "        \n",
        "    return recommendations_set\n"
      ],
      "execution_count": 0,
      "outputs": []
    },
    {
      "cell_type": "markdown",
      "metadata": {
        "id": "ncOt2JQ3XI2F",
        "colab_type": "text"
      },
      "source": [
        "### Create validation set for every user\n",
        "We first create a validation set for every user which consists of all the products that the user rated higher than 3.5 (the value of the mean rate).\n"
      ]
    },
    {
      "cell_type": "code",
      "metadata": {
        "id": "u3NVoUdMXI2I",
        "colab_type": "code",
        "colab": {}
      },
      "source": [
        "def create_validation_set(df, minRate=3.5, k=5):\n",
        "    validation_set = {}\n",
        "    \n",
        "    for user in numpy.unique(df['user'].values) - 1:\n",
        "        rated_items = df[df['user'] == user]['item'].values -1\n",
        "        rates = df[df['user'] == user]['rate'].values\n",
        "\n",
        "        best_ranked_items = rated_items[numpy.where(rates > minRate)[0]]\n",
        "        if len(best_ranked_items) >= k:\n",
        "            validation_set[user] = best_ranked_items\n",
        "            \n",
        "    return validation_set\n"
      ],
      "execution_count": 0,
      "outputs": []
    },
    {
      "cell_type": "markdown",
      "metadata": {
        "id": "s7JO2SjaXI2N",
        "colab_type": "text"
      },
      "source": [
        "### Compute precision@k \n",
        "\n",
        "In the context of recommendation systems we are most likely interested in recommending top-N items to the user. So it makes more sense to compute precision and recall metrics in the first N items instead of all the items. Thus the notion of precision at k where k is a user definable integer that is set by the user to match the top-N recommendations objective.\n",
        "\n",
        "Precision at k is the proportion of recommended items in the top-k set that are relevant.\n",
        "\n"
      ]
    },
    {
      "cell_type": "code",
      "metadata": {
        "id": "s4ezlWahXI2O",
        "colab_type": "code",
        "colab": {}
      },
      "source": [
        "def precisionAtK(validations_set, recommendations_set, k=5):\n",
        "    \n",
        "    res = []\n",
        "    for user in validations_set.keys():\n",
        "        \n",
        "        v = validations_set[user]\n",
        "        r = recommendations_set[user][:k]\n",
        "        \n",
        "        ans = len(numpy.intersect1d(v, r)) / k\n",
        "        res.append(ans)\n",
        "\n",
        "    return numpy.mean(res)\n"
      ],
      "execution_count": 0,
      "outputs": []
    },
    {
      "cell_type": "code",
      "metadata": {
        "id": "BRge2ygWXI2S",
        "colab_type": "code",
        "colab": {}
      },
      "source": [
        "def compute_precisionAtK_from_recommendations(model, df_test, validation_set=None, nrRecommendations=20, k=10):\n",
        "    \"\"\"\n",
        "    Compute precisionAtK from recommendations and validation set. Generate recommendations applying \\\n",
        "    'model' to dataset 'df_test'. \n",
        "    \"\"\"\n",
        "    if validation_set is None:\n",
        "        validation_set = create_validation_set(df_test, minRate=3.5, k=k)\n",
        "        \n",
        "    recommendations_set = create_recommendations(model, df_test, \\\n",
        "                                              validation_set.keys(), nrRecommendations=nrRecommendations)\n",
        "    precision = precisionAtK(validation_set, recommendations_set, k=k)\n",
        "    \n",
        "    return precision\n",
        "\n"
      ],
      "execution_count": 0,
      "outputs": []
    },
    {
      "cell_type": "code",
      "metadata": {
        "id": "qS2SoleMXI2V",
        "colab_type": "code",
        "outputId": "ac37891c-81e3-4e86-db5e-0b6b89756284",
        "colab": {
          "base_uri": "https://localhost:8080/",
          "height": 34
        }
      },
      "source": [
        "k = 5\n",
        "\n",
        "validation_set = create_validation_set(df_test, minRate=3.5, k=k)\n",
        "\n",
        "precision = compute_precisionAtK_from_recommendations(model, df_test, validation_set=validation_set, \\\n",
        "                                                      nrRecommendations=20, k=k)\n",
        "print(\"MF: Precision@{} is {}\".format(k, precision))\n"
      ],
      "execution_count": 0,
      "outputs": [
        {
          "output_type": "stream",
          "text": [
            "MF: Precision@5 is 0.028720626631853787\n"
          ],
          "name": "stdout"
        }
      ]
    },
    {
      "cell_type": "markdown",
      "metadata": {
        "id": "9ImEPi4uXI2X",
        "colab_type": "text"
      },
      "source": [
        "## Exercise\n",
        "Experiment with the parameter choice of the MF model and evaluate the setting in MAE and Precision@5. Compare various settings in the ResultsTable."
      ]
    },
    {
      "cell_type": "code",
      "metadata": {
        "id": "5Lu0g2VqXI2Y",
        "colab_type": "code",
        "colab": {}
      },
      "source": [
        "class ResultsTable():\n",
        "    def __init__(self):\n",
        "        self.columns = [\"name\", \"MAE\", \"Precision@5\"]\n",
        "        self.df = pd.DataFrame(columns=self.columns)\n",
        "        \n",
        "    def add(self, name=\"experimentName\", mae=None, precision=None, overwrite=False):\n",
        "        \n",
        "        data ={\"name\":name, \"MAE\":mae, \"Precision@5\": precision}\n",
        "        res = pd.Series(data, self.columns, name=name)\n",
        "        \n",
        "        if len(self.df[self.df.name == name]) > 0:\n",
        "            if not overwrite:\n",
        "                raise Exception(\"Error: experiments name already exists. Change the name or set overwrite to True.\")\n",
        "            else:\n",
        "                self.df = self.df.drop(self.df[self.df.name == name].index[0])\n",
        "                self.df = self.df.append(res,  ignore_index=True)\n",
        "\n",
        "        else:\n",
        "            self.df = self.df.append(res,  ignore_index=True)\n",
        "\n",
        "        \n",
        "    def show(self):\n",
        "        display(self.df)\n",
        "\n",
        "table = ResultsTable()        \n"
      ],
      "execution_count": 0,
      "outputs": []
    },
    {
      "cell_type": "markdown",
      "metadata": {
        "id": "1H_7F5tDXI2c",
        "colab_type": "text"
      },
      "source": [
        "Compute the MAE and Precision@5."
      ]
    },
    {
      "cell_type": "code",
      "metadata": {
        "id": "NR_7a_FxXI2d",
        "colab_type": "code",
        "colab": {}
      },
      "source": [
        "err_test = compute_error(model, user_index_test, item_index_test)\n",
        "\n",
        "precision = compute_precisionAtK_from_recommendations(model, df_test, validation_set=validation_set, nrRecommendations=20, k=5)\n",
        "print(\"MF: Precision@{} is {}\".format(5, precision))\n",
        "print(\"MF: MAE is {}\".format(err_test))\n",
        "\n",
        "table.add(name=\"MF\", mae=err_test, precision=precision, overwrite=True)\n",
        "table.show()\n",
        "\n"
      ],
      "execution_count": 0,
      "outputs": []
    },
    {
      "cell_type": "code",
      "metadata": {
        "id": "KzEbsRGmXI2f",
        "colab_type": "code",
        "colab": {}
      },
      "source": [
        "## example:\n",
        "experiment_name = \"MF_\" + \"regUserItemL2\"\n"
      ],
      "execution_count": 0,
      "outputs": []
    },
    {
      "cell_type": "markdown",
      "metadata": {
        "id": "6QmJz3iTXI2i",
        "colab_type": "text"
      },
      "source": [
        "### Question: \n",
        "- choose the regularization\n",
        " https://keras.io/regularizers/\n",
        "- loss \n",
        "- optimizer\n",
        "- learning rate\n",
        "- number of epochs\n",
        "\n",
        "Benchmark several experiments with different hyperparameters \n",
        "\n"
      ]
    },
    {
      "cell_type": "code",
      "metadata": {
        "id": "5R-dHuzJXI2j",
        "colab_type": "code",
        "colab": {}
      },
      "source": [
        "# regularizers\n",
        "no_regularizer = None\n",
        "regularizer_l2 = tf.keras.regularizers.l2(0.0001)\n",
        "regularizer_l1 = tf.keras.regularizers.l1(0.0001)\n",
        "regularizer_l1l2 = tf.keras.regularizers.l1_l2(0.0001)\n",
        "\n",
        "regularizer_user = regularizer_l2\n",
        "regularizer_product = regularizer_l2\n"
      ],
      "execution_count": 0,
      "outputs": []
    },
    {
      "cell_type": "code",
      "metadata": {
        "id": "e-0zFGtiXI2l",
        "colab_type": "code",
        "colab": {}
      },
      "source": [
        "# product embedding\n",
        "item_input = tf.keras.layers.Input(shape=[1],name='Item')\n",
        "\n",
        "################ EMBEDDING AND REGULARIZER ##########################################################################\n",
        "item_embedding = tf.keras.layers.Embedding(num_items, feature_len, name='Item-Embedding', \\\n",
        "                                          embeddings_regularizer=regularizer_product)(item_input)\n",
        "#################################################################################################\n",
        "\n",
        "item_vec = tf.keras.layers.Flatten(name='FlattenItems')(item_embedding)\n",
        "\n",
        "# user embedding\n",
        "user_input = tf.keras.layers.Input(shape=[1],name='User')\n",
        "################ EMBEDDING AND REGULARIZER ##########################################################################\n",
        "user_embedding = tf.keras.layers.Embedding(num_users, feature_len,name='User-Embedding', \\\n",
        "                                          embeddings_regularizer=regularizer_user)(user_input)\n",
        "#################################################################################################\n",
        "\n",
        "user_vec = tf.keras.layers.Flatten(name='FlattenUsers')(user_embedding)\n",
        "\n",
        "# rating\n",
        "result = tf.keras.layers.dot([item_vec, user_vec], axes=1, name='DotProduct')\n",
        "\n",
        "# initialize Keras model \n",
        "model = tf.keras.Model([user_input, item_input], result)\n",
        "#model.summary()\n"
      ],
      "execution_count": 0,
      "outputs": []
    },
    {
      "cell_type": "code",
      "metadata": {
        "id": "kb47ap4eXI2o",
        "colab_type": "code",
        "colab": {}
      },
      "source": [
        "# choose the loss \n",
        "# see https://keras.io/losses/\n",
        "loss = tf.keras.losses.MeanSquaredError()\n",
        "\n",
        "# learning rate\n",
        "lr = 0.001\n",
        "learning_rate = tf.optimizers.schedules.ExponentialDecay(lr, decay_steps=100000,\n",
        "    decay_rate=0.96, staircase=True)\n",
        "\n",
        "# choose the optimizer\n",
        "optimizer = tf.optimizers.Adam(learning_rate=learning_rate)\n",
        "#optimizer = tf.optimizers.SGD(learning_rate=lr)\n",
        "\n",
        "\n",
        "# compile the model with the optimizerm, loss and the tracking metrics\n",
        "model.compile(optimizer=optimizer, loss=loss, metrics=[accuracy])\n",
        "\n",
        "#model.summary()\n",
        "\n",
        "numberEpochs = 10\n",
        "history = model.fit([user_index, item_index], rates, epochs=numberEpochs, verbose=1, validation_split=0.1)\n",
        "plot_history(history)\n"
      ],
      "execution_count": 0,
      "outputs": []
    },
    {
      "cell_type": "markdown",
      "metadata": {
        "id": "pVHeXC6iXI2r",
        "colab_type": "text"
      },
      "source": [
        "MAE"
      ]
    },
    {
      "cell_type": "code",
      "metadata": {
        "id": "H2lq1xyFXI2r",
        "colab_type": "code",
        "colab": {}
      },
      "source": [
        "err_test = compute_error(model, user_index_test, item_index_test)\n",
        "\n",
        "precision = compute_precisionAtK_from_recommendations(model, df_test, validation_set=validation_set, \\\n",
        "                                                      nrRecommendations=20, k=5)\n",
        "print(\"MF: Precision@{} is {}\".format(5, precision))\n",
        "print(\"MF: MAE is {}\".format(err_test))\n",
        "\n"
      ],
      "execution_count": 0,
      "outputs": []
    },
    {
      "cell_type": "code",
      "metadata": {
        "id": "-dwSDANuXI2v",
        "colab_type": "code",
        "colab": {}
      },
      "source": [
        "table.add(name=experiment_name, mae=err_test, precision=precision, overwrite=True)\n",
        "table.show()\n"
      ],
      "execution_count": 0,
      "outputs": []
    },
    {
      "cell_type": "code",
      "metadata": {
        "id": "Sp3-CnSkXI22",
        "colab_type": "code",
        "colab": {}
      },
      "source": [
        "#table.add(name=\"experiment_l1regularization\", mae=err_test, precision=precision)\n",
        "table.show()\n"
      ],
      "execution_count": 0,
      "outputs": []
    },
    {
      "cell_type": "code",
      "metadata": {
        "id": "xxAAkbf6XI25",
        "colab_type": "code",
        "colab": {}
      },
      "source": [
        ""
      ],
      "execution_count": 0,
      "outputs": []
    },
    {
      "cell_type": "code",
      "metadata": {
        "id": "jN5TohCKXI29",
        "colab_type": "code",
        "colab": {}
      },
      "source": [
        ""
      ],
      "execution_count": 0,
      "outputs": []
    },
    {
      "cell_type": "code",
      "metadata": {
        "id": "tjlXgICvXI2_",
        "colab_type": "code",
        "colab": {}
      },
      "source": [
        ""
      ],
      "execution_count": 0,
      "outputs": []
    },
    {
      "cell_type": "markdown",
      "metadata": {
        "id": "nTGbU6yeXI3C",
        "colab_type": "text"
      },
      "source": [
        "# Neural networks for recommendation\n",
        "Create a simple neural network for recommendation, or for estimating rating! This model is very similar to the earlier matrix factorisation models, but differs in the following ways:\n",
        "\n",
        "- Instead of taking a dot product of the user and the item embedding, we concatenate them and use them as features for our neural network. Thus, we are not constrained to the dot product way of combining the embeddings, and can learn complex non-linear relationships.\n",
        "- We can now have a different dimension of user and item embeddings. This can be useful if one dimension is larger than the other."
      ]
    },
    {
      "cell_type": "code",
      "metadata": {
        "id": "fxQhbPNIXI3D",
        "colab_type": "code",
        "colab": {}
      },
      "source": [
        "experiment_name = \"NNMF\"\n"
      ],
      "execution_count": 0,
      "outputs": []
    },
    {
      "cell_type": "markdown",
      "metadata": {
        "id": "J0FvIV3Pk3Po",
        "colab_type": "text"
      },
      "source": [
        ""
      ]
    },
    {
      "cell_type": "code",
      "metadata": {
        "id": "iYYCapREXI3H",
        "colab_type": "code",
        "outputId": "9e0fc753-6205-4673-e5cb-5697e507769f",
        "colab": {
          "base_uri": "https://localhost:8080/",
          "height": 612
        }
      },
      "source": [
        "n_latent_factors_user = 50\n",
        "n_latent_factors_item = 100\n",
        "\n",
        "item_input = tf.keras.layers.Input(shape=[1],name='Item')\n",
        "item_embedding = tf.keras.layers.Embedding(num_items, n_latent_factors_item, name='Item-Embedding')(item_input)\n",
        "item_vec = tf.keras.layers.Flatten(name='FlattenItems')(item_embedding)\n",
        "item_vec = tf.keras.layers.Dropout(0.2)(item_vec)\n",
        "\n",
        "user_input = tf.keras.layers.Input(shape=[1],name='User')\n",
        "user_embedding = tf.keras.layers.Embedding(num_users, n_latent_factors_user,name='User-Embedding')(user_input)\n",
        "user_vec = tf.keras.layers.Flatten(name='FlattenUsers')(user_embedding)\n",
        "user_vec = tf.keras.layers.Dropout(0.2)(user_vec)\n",
        "\n",
        "concat = tf.keras.layers.concatenate([item_vec, user_vec], name='Concat')\n",
        "concat = tf.keras.layers.Dropout(0.2)(concat)\n",
        "full1 = tf.keras.layers.Dense(200,name='FullyConnected', activation='relu')(concat)\n",
        "full1 = tf.keras.layers.Dropout(0.2,name='Dropout')(full1)\n",
        "full2 = tf.keras.layers.Dense(100,name='FullyConnected-1', activation='relu')(full1)\n",
        "full2 = tf.keras.layers.Dropout(0.2,name='Dropout')(full2)\n",
        "full3 = tf.keras.layers.Dense(50,name='FullyConnected-2', activation='relu')(full2)\n",
        "full3 = tf.keras.layers.Dropout(0.2,name='Dropout')(full3)\n",
        "full4 = tf.keras.layers.Dense(20,name='FullyConnected-3', activation='relu')(full3)\n",
        "\n",
        "result = tf.keras.layers.Dense(1, name='Activation')(full1)\n",
        "\n",
        "lr = 0.0001\n",
        "learning_rate = tf.optimizers.schedules.ExponentialDecay(lr, decay_steps=100000,\n",
        "    decay_rate=0.96, staircase=True)\n",
        "\n",
        "adam = tf.optimizers.Adam(learning_rate=learning_rate)\n",
        "model_NN = tf.keras.Model([user_input, item_input], result)\n",
        "model_NN.compile(optimizer=adam, loss= 'mean_squared_error', metrics=[accuracy])\n",
        "model_NN.summary()"
      ],
      "execution_count": 0,
      "outputs": [
        {
          "output_type": "stream",
          "text": [
            "Model: \"model_9\"\n",
            "__________________________________________________________________________________________________\n",
            "Layer (type)                    Output Shape         Param #     Connected to                     \n",
            "==================================================================================================\n",
            "Item (InputLayer)               [(None, 1)]          0                                            \n",
            "__________________________________________________________________________________________________\n",
            "User (InputLayer)               [(None, 1)]          0                                            \n",
            "__________________________________________________________________________________________________\n",
            "Item-Embedding (Embedding)      (None, 1, 100)       168200      Item[0][0]                       \n",
            "__________________________________________________________________________________________________\n",
            "User-Embedding (Embedding)      (None, 1, 50)        47150       User[0][0]                       \n",
            "__________________________________________________________________________________________________\n",
            "FlattenItems (Flatten)          (None, 100)          0           Item-Embedding[0][0]             \n",
            "__________________________________________________________________________________________________\n",
            "FlattenUsers (Flatten)          (None, 50)           0           User-Embedding[0][0]             \n",
            "__________________________________________________________________________________________________\n",
            "dropout_3 (Dropout)             (None, 100)          0           FlattenItems[0][0]               \n",
            "__________________________________________________________________________________________________\n",
            "dropout_4 (Dropout)             (None, 50)           0           FlattenUsers[0][0]               \n",
            "__________________________________________________________________________________________________\n",
            "Concat (Concatenate)            (None, 150)          0           dropout_3[0][0]                  \n",
            "                                                                 dropout_4[0][0]                  \n",
            "__________________________________________________________________________________________________\n",
            "dropout_5 (Dropout)             (None, 150)          0           Concat[0][0]                     \n",
            "__________________________________________________________________________________________________\n",
            "FullyConnected (Dense)          (None, 200)          30200       dropout_5[0][0]                  \n",
            "__________________________________________________________________________________________________\n",
            "Dropout (Dropout)               (None, 200)          0           FullyConnected[0][0]             \n",
            "__________________________________________________________________________________________________\n",
            "Activation (Dense)              (None, 1)            201         Dropout[0][0]                    \n",
            "==================================================================================================\n",
            "Total params: 245,751\n",
            "Trainable params: 245,751\n",
            "Non-trainable params: 0\n",
            "__________________________________________________________________________________________________\n"
          ],
          "name": "stdout"
        }
      ]
    },
    {
      "cell_type": "code",
      "metadata": {
        "id": "haVjRB5cXI3W",
        "colab_type": "code",
        "outputId": "a3a0f13f-deeb-4298-cb44-e792f9d58254",
        "colab": {
          "base_uri": "https://localhost:8080/",
          "height": 374
        }
      },
      "source": [
        "numberEpochs = 10\n",
        "print_log = 1\n",
        "history_NN = model_NN.fit([user_index, item_index], rates, epochs=numberEpochs, \\\n",
        "                          verbose=print_log, validation_split=0.1)\n",
        "\n"
      ],
      "execution_count": 0,
      "outputs": [
        {
          "output_type": "stream",
          "text": [
            "Train on 63099 samples, validate on 7011 samples\n",
            "Epoch 1/10\n",
            "63099/63099 [==============================] - 10s 151us/sample - loss: 1.1428 - accuracy: 0.6319 - val_loss: 0.9719 - val_accuracy: 0.6882\n",
            "Epoch 2/10\n",
            "63099/63099 [==============================] - 9s 140us/sample - loss: 0.9194 - accuracy: 0.7092 - val_loss: 0.9178 - val_accuracy: 0.7140\n",
            "Epoch 3/10\n",
            "63099/63099 [==============================] - 9s 144us/sample - loss: 0.8837 - accuracy: 0.7231 - val_loss: 0.9056 - val_accuracy: 0.7196\n",
            "Epoch 4/10\n",
            "63099/63099 [==============================] - 9s 141us/sample - loss: 0.8697 - accuracy: 0.7278 - val_loss: 0.9009 - val_accuracy: 0.7213\n",
            "Epoch 5/10\n",
            "63099/63099 [==============================] - 9s 141us/sample - loss: 0.8610 - accuracy: 0.7306 - val_loss: 0.9007 - val_accuracy: 0.7226\n",
            "Epoch 6/10\n",
            "63099/63099 [==============================] - 9s 140us/sample - loss: 0.8531 - accuracy: 0.7327 - val_loss: 0.8953 - val_accuracy: 0.7196\n",
            "Epoch 7/10\n",
            "63099/63099 [==============================] - 9s 137us/sample - loss: 0.8464 - accuracy: 0.7356 - val_loss: 0.8929 - val_accuracy: 0.7202\n",
            "Epoch 8/10\n",
            "63099/63099 [==============================] - 8s 133us/sample - loss: 0.8395 - accuracy: 0.7376 - val_loss: 0.8901 - val_accuracy: 0.7222\n",
            "Epoch 9/10\n",
            "63099/63099 [==============================] - 8s 134us/sample - loss: 0.8334 - accuracy: 0.7413 - val_loss: 0.8921 - val_accuracy: 0.7253\n",
            "Epoch 10/10\n",
            "63099/63099 [==============================] - 9s 139us/sample - loss: 0.8255 - accuracy: 0.7423 - val_loss: 0.8888 - val_accuracy: 0.7255\n"
          ],
          "name": "stdout"
        }
      ]
    },
    {
      "cell_type": "code",
      "metadata": {
        "id": "Od4mpsP5XI3Z",
        "colab_type": "code",
        "colab": {}
      },
      "source": [
        "plot_history(history_NN)\n"
      ],
      "execution_count": 0,
      "outputs": []
    },
    {
      "cell_type": "code",
      "metadata": {
        "id": "lZn5C6w5lgZ8",
        "colab_type": "code",
        "outputId": "03879ab6-8ff0-48a6-f2da-bbd34235ca97",
        "colab": {
          "base_uri": "https://localhost:8080/",
          "height": 976
        }
      },
      "source": [
        "tf.keras.utils.plot_model(model_NN,to_file='model_NN.png', show_shapes=True, show_layer_names=True, rankdir='TB', expand_nested=False, dpi=96)"
      ],
      "execution_count": 0,
      "outputs": [
        {
          "output_type": "execute_result",
          "data": {
            "image/png": "[encoded data removed]",
            "text/plain": [
              "<IPython.core.display.Image object>"
            ]
          },
          "metadata": {
            "tags": []
          },
          "execution_count": 123
        }
      ]
    },
    {
      "cell_type": "code",
      "metadata": {
        "id": "sSsXKhGPXI3c",
        "colab_type": "code",
        "outputId": "44027062-bcc1-4009-c598-d509c2ff458d",
        "colab": {
          "base_uri": "https://localhost:8080/",
          "height": 248
        }
      },
      "source": [
        "experiment_name = \"NNMF\"\n",
        "err_test = compute_error(model_NN, user_index_test, item_index_test)\n",
        "\n",
        "precision = compute_precisionAtK_from_recommendations(model_NN, df_test, validation_set=validation_set, \\\n",
        "                                                      nrRecommendations=20, k=5)\n",
        "print(\"MF: Precision@{} is {}\".format(5, precision))\n",
        "print(\"MF: MAE is {}\".format(err_test))\n",
        "\n",
        "table.add(name=experiment_name, mae=err_test, precision=precision, overwrite=True)\n",
        "table.show()\n"
      ],
      "execution_count": 0,
      "outputs": [
        {
          "output_type": "stream",
          "text": [
            "MF: Precision@5 is 0.044647519582245436\n",
            "MF: MAE is 0.739405553424872\n"
          ],
          "name": "stdout"
        },
        {
          "output_type": "error",
          "ename": "NameError",
          "evalue": "ignored",
          "traceback": [
            "\u001b[0;31m---------------------------------------------------------------------------\u001b[0m",
            "\u001b[0;31mNameError\u001b[0m                                 Traceback (most recent call last)",
            "\u001b[0;32m<ipython-input-118-75835568bdf4>\u001b[0m in \u001b[0;36m<module>\u001b[0;34m()\u001b[0m\n\u001b[1;32m      6\u001b[0m \u001b[0mprint\u001b[0m\u001b[0;34m(\u001b[0m\u001b[0;34m\"MF: MAE is {}\"\u001b[0m\u001b[0;34m.\u001b[0m\u001b[0mformat\u001b[0m\u001b[0;34m(\u001b[0m\u001b[0merr_test\u001b[0m\u001b[0;34m)\u001b[0m\u001b[0;34m)\u001b[0m\u001b[0;34m\u001b[0m\u001b[0;34m\u001b[0m\u001b[0m\n\u001b[1;32m      7\u001b[0m \u001b[0;34m\u001b[0m\u001b[0m\n\u001b[0;32m----> 8\u001b[0;31m \u001b[0mtable\u001b[0m\u001b[0;34m.\u001b[0m\u001b[0madd\u001b[0m\u001b[0;34m(\u001b[0m\u001b[0mname\u001b[0m\u001b[0;34m=\u001b[0m\u001b[0mexperiment_name\u001b[0m\u001b[0;34m,\u001b[0m \u001b[0mmae\u001b[0m\u001b[0;34m=\u001b[0m\u001b[0merr_test\u001b[0m\u001b[0;34m,\u001b[0m \u001b[0mprecision\u001b[0m\u001b[0;34m=\u001b[0m\u001b[0mprecision\u001b[0m\u001b[0;34m,\u001b[0m \u001b[0moverwrite\u001b[0m\u001b[0;34m=\u001b[0m\u001b[0;32mTrue\u001b[0m\u001b[0;34m)\u001b[0m\u001b[0;34m\u001b[0m\u001b[0;34m\u001b[0m\u001b[0m\n\u001b[0m\u001b[1;32m      9\u001b[0m \u001b[0mtable\u001b[0m\u001b[0;34m.\u001b[0m\u001b[0mshow\u001b[0m\u001b[0;34m(\u001b[0m\u001b[0;34m)\u001b[0m\u001b[0;34m\u001b[0m\u001b[0;34m\u001b[0m\u001b[0m\n",
            "\u001b[0;31mNameError\u001b[0m: name 'table' is not defined"
          ]
        }
      ]
    },
    {
      "cell_type": "markdown",
      "metadata": {
        "id": "nrEl_RQIXI3g",
        "colab_type": "text"
      },
      "source": [
        "### Question:\n",
        "Change the model parameters, for example:\n",
        "- Change the number of layers of the NN\n",
        "- Remove/add dropout\n",
        "\n",
        "\n"
      ]
    },
    {
      "cell_type": "markdown",
      "metadata": {
        "id": "tMt0BTQ0XI3g",
        "colab_type": "text"
      },
      "source": [
        "### Design a simple baseline:  predict average rate per item and recommend items with the highest rating"
      ]
    },
    {
      "cell_type": "code",
      "metadata": {
        "id": "Mf7IHKepXI3i",
        "colab_type": "code",
        "colab": {}
      },
      "source": [
        "gbo = df_test[[\"item\", \"rate\"]].groupby(\"item\").mean().reset_index()\n",
        "df_gbo = pd.merge(df_test, gbo, on=\"item\", suffixes=('', '_gbo'))\n",
        "display(df_gbo[df_gbo.item == 1].head())\n",
        "predicted_rates_gbo_test = df_gbo.rate_gbo.values\n",
        "\n",
        "err_gbo_test = mean_absolute_error(rates_test + mean_rating_test, predicted_rates_gbo_test)\n",
        "\n",
        "print(\"Mean absolute error on the test set: {}\".format(err_gbo_test))\n"
      ],
      "execution_count": 0,
      "outputs": []
    },
    {
      "cell_type": "markdown",
      "metadata": {
        "id": "WxEpe-nOXI3k",
        "colab_type": "text"
      },
      "source": [
        "### Generate recommendations"
      ]
    },
    {
      "cell_type": "code",
      "metadata": {
        "id": "WG00BHouXI3m",
        "colab_type": "code",
        "colab": {}
      },
      "source": [
        "def recommend_highest_rates(df, userList, nrRecommendations=10):\n",
        "    gbo_set = {}\n",
        "    \n",
        "    # compute mean rating per item\n",
        "    all_items = numpy.unique(df['item'].values)\n",
        "    gbos = df.groupby(\"item\").mean().rate.reset_index().sort_values(by=\"rate\", ascending=False).item.values[:nrRecommendations]\n",
        "    \n",
        "    for user in userList:\n",
        "        gbo_set[user] = gbos\n",
        "            \n",
        "    return gbo_set"
      ],
      "execution_count": 0,
      "outputs": []
    },
    {
      "cell_type": "code",
      "metadata": {
        "id": "_T7yIHcgXI3r",
        "colab_type": "code",
        "colab": {}
      },
      "source": [
        "highest_rates_baseline = recommend_highest_rates(df, validation_set.keys(), nrRecommendations=20)\n",
        "\n",
        "precision_baseline = precisionAtK(validation_set, highest_rates_baseline, k=5)\n",
        "print(\"Baseline: Precision@{} is {}\".format(5, precision_baseline))\n",
        "table.add(name=\"gbo\", mae=err_gbo_test, precision=precision_baseline, overwrite=True)\n"
      ],
      "execution_count": 0,
      "outputs": []
    },
    {
      "cell_type": "markdown",
      "metadata": {
        "id": "2-fPIbWpXI3t",
        "colab_type": "text"
      },
      "source": [
        "### Final scores"
      ]
    },
    {
      "cell_type": "code",
      "metadata": {
        "id": "obO6jKaGXI3u",
        "colab_type": "code",
        "colab": {}
      },
      "source": [
        "display(table.df.sort_values(by=\"MAE\"))\n"
      ],
      "execution_count": 0,
      "outputs": []
    },
    {
      "cell_type": "code",
      "metadata": {
        "id": "vjCWoaWaXI3x",
        "colab_type": "code",
        "colab": {}
      },
      "source": [
        "display(table.df.sort_values(by=\"Precision@5\", ascending=False))\n"
      ],
      "execution_count": 0,
      "outputs": []
    },
    {
      "cell_type": "code",
      "metadata": {
        "id": "fC1RfBySXI30",
        "colab_type": "code",
        "colab": {}
      },
      "source": [
        ""
      ],
      "execution_count": 0,
      "outputs": []
    }
  ]
}